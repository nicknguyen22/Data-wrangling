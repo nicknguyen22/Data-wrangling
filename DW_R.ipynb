{
 "cells": [
  {
   "cell_type": "code",
   "execution_count": 24,
   "metadata": {
    "vscode": {
     "languageId": "r"
    }
   },
   "outputs": [],
   "source": [
    "# install needed package\n",
    "\n",
    "#install.packages(\"XLConnect\")\n",
    "#install.packages(\"rvest\")\n",
    "#install.packages(\"rjson\")\n",
    "#install.packages(\"httr\")\n",
    "#install.packages(\"stringr\")\n",
    "#install.packages(\"dbplyr\")\n",
    "#install.packages(\"dplyr\")\n",
    "#install.packages(\"RSQLite\")"
   ]
  },
  {
   "cell_type": "code",
   "execution_count": 25,
   "metadata": {
    "vscode": {
     "languageId": "r"
    }
   },
   "outputs": [],
   "source": [
    "# loading needed library\n",
    "library(rvest)\n",
    "library(rjson)\n",
    "library(httr)\n",
    "library(stringr)\n",
    "library(dbplyr)\n",
    "library(dplyr)\n",
    "library(RSQLite)\n",
    "library(DBI)\n",
    "library(XLConnect)\n",
    "library(tidyverse)\n",
    "library(lubridate)"
   ]
  },
  {
   "cell_type": "code",
   "execution_count": 26,
   "metadata": {
    "vscode": {
     "languageId": "r"
    }
   },
   "outputs": [
    {
     "name": "stdout",
     "output_type": "stream",
     "text": [
      "    Measure.Values.value Measure.Values.alias       Region.alias                                    Measure.Names.value Measure.Names.alias\n",
      "1       11.1307165891137                11.13      Other Regions [federated.0npm3nk137dwgj1bs20161izsoga].[sum:2020:qk]                2020\n",
      "2       11.4119746208798                11.41      Other Regions [federated.0npm3nk137dwgj1bs20161izsoga].[sum:2019:qk]                2019\n",
      "3        11.365312090245                11.37      Other Regions [federated.0npm3nk137dwgj1bs20161izsoga].[sum:2018:qk]                2018\n",
      "4       11.0152014879107                11.02      Other Regions [federated.0npm3nk137dwgj1bs20161izsoga].[sum:2017:qk]                2017\n",
      "5       10.6201532333023                10.62      Other Regions [federated.0npm3nk137dwgj1bs20161izsoga].[sum:2016:qk]                2016\n",
      "6       10.1251600666945                10.13      Other Regions [federated.0npm3nk137dwgj1bs20161izsoga].[sum:2015:qk]                2015\n",
      "7        9.7568963828817                 9.76      Other Regions [federated.0npm3nk137dwgj1bs20161izsoga].[sum:2014:qk]                2014\n",
      "8       9.51289054616161                 9.51      Other Regions [federated.0npm3nk137dwgj1bs20161izsoga].[sum:2013:qk]                2013\n",
      "9       9.38198775459202                 9.38      Other Regions [federated.0npm3nk137dwgj1bs20161izsoga].[sum:2012:qk]                2012\n",
      "10      9.46292409373122                 9.46      Other Regions [federated.0npm3nk137dwgj1bs20161izsoga].[sum:2011:qk]                2011\n",
      "11      9.57717325017326                 9.58      Other Regions [federated.0npm3nk137dwgj1bs20161izsoga].[sum:2010:qk]                2010\n",
      "12       9.5628274471979                 9.56      Other Regions [federated.0npm3nk137dwgj1bs20161izsoga].[sum:2009:qk]                2009\n",
      "13       9.5864468216518                 9.59      Other Regions [federated.0npm3nk137dwgj1bs20161izsoga].[sum:2008:qk]                2008\n",
      "14      9.72285220187061                 9.72      Other Regions [federated.0npm3nk137dwgj1bs20161izsoga].[sum:2007:qk]                2007\n",
      "15      9.57535110990127                 9.58      Other Regions [federated.0npm3nk137dwgj1bs20161izsoga].[sum:2006:qk]                2006\n",
      "16      9.57396196176391                 9.57      Other Regions [federated.0npm3nk137dwgj1bs20161izsoga].[sum:2005:qk]                2005\n",
      "17      9.44077300536896                 9.44      Other Regions [federated.0npm3nk137dwgj1bs20161izsoga].[sum:2004:qk]                2004\n",
      "18      9.17771689920091                 9.18      Other Regions [federated.0npm3nk137dwgj1bs20161izsoga].[sum:2003:qk]                2003\n",
      "19      8.90401101811633                 8.90      Other Regions [federated.0npm3nk137dwgj1bs20161izsoga].[sum:2002:qk]                2002\n",
      "20      8.58586610512498                 8.59      Other Regions [federated.0npm3nk137dwgj1bs20161izsoga].[sum:2001:qk]                2001\n",
      "21      1.14364228979548                 1.14          Southland [federated.0npm3nk137dwgj1bs20161izsoga].[sum:2020:qk]                2020\n",
      "22      1.16755514475498                 1.17          Southland [federated.0npm3nk137dwgj1bs20161izsoga].[sum:2019:qk]                2019\n",
      "23       1.1735103128187                 1.17          Southland [federated.0npm3nk137dwgj1bs20161izsoga].[sum:2018:qk]                2018\n",
      "24      1.14651901575561                 1.15          Southland [federated.0npm3nk137dwgj1bs20161izsoga].[sum:2017:qk]                2017\n",
      "25      1.12255300314257                 1.12          Southland [federated.0npm3nk137dwgj1bs20161izsoga].[sum:2016:qk]                2016\n",
      "26       1.0914966652772                 1.09          Southland [federated.0npm3nk137dwgj1bs20161izsoga].[sum:2015:qk]                2015\n",
      "27      1.06249333941387                 1.06          Southland [federated.0npm3nk137dwgj1bs20161izsoga].[sum:2014:qk]                2014\n",
      "28       1.0455157892146                 1.05          Southland [federated.0npm3nk137dwgj1bs20161izsoga].[sum:2013:qk]                2013\n",
      "29      1.03943603648632                 1.04          Southland [federated.0npm3nk137dwgj1bs20161izsoga].[sum:2012:qk]                2012\n",
      "30      1.04653524934909                 1.05          Southland [federated.0npm3nk137dwgj1bs20161izsoga].[sum:2011:qk]                2011\n",
      "31      1.06457588357588                 1.06          Southland [federated.0npm3nk137dwgj1bs20161izsoga].[sum:2010:qk]                2010\n",
      "32      1.07267275065539                 1.07          Southland [federated.0npm3nk137dwgj1bs20161izsoga].[sum:2009:qk]                2009\n",
      "33      1.06549487363194                 1.07          Southland [federated.0npm3nk137dwgj1bs20161izsoga].[sum:2008:qk]                2008\n",
      "34      1.07018511301637                 1.07          Southland [federated.0npm3nk137dwgj1bs20161izsoga].[sum:2007:qk]                2007\n",
      "35      1.05612702615754                 1.06          Southland [federated.0npm3nk137dwgj1bs20161izsoga].[sum:2006:qk]                2006\n",
      "36      1.06099055227166                 1.06          Southland [federated.0npm3nk137dwgj1bs20161izsoga].[sum:2005:qk]                2005\n",
      "37      1.05831976526408                 1.06          Southland [federated.0npm3nk137dwgj1bs20161izsoga].[sum:2004:qk]                2004\n",
      "38      1.04198967085485                 1.04          Southland [federated.0npm3nk137dwgj1bs20161izsoga].[sum:2003:qk]                2003\n",
      "39      1.02592303210086                 1.03          Southland [federated.0npm3nk137dwgj1bs20161izsoga].[sum:2002:qk]                2002\n",
      "40       1.0226987365312                 1.02          Southland [federated.0npm3nk137dwgj1bs20161izsoga].[sum:2001:qk]                2001\n",
      "41      6.64535353316741                 6.65         Canterbury [federated.0npm3nk137dwgj1bs20161izsoga].[sum:2020:qk]                2020\n",
      "42      6.89709399674145                 6.90         Canterbury [federated.0npm3nk137dwgj1bs20161izsoga].[sum:2019:qk]                2019\n",
      "43      6.95487751576581                 6.95         Canterbury [federated.0npm3nk137dwgj1bs20161izsoga].[sum:2018:qk]                2018\n",
      "44      6.77889390084871                 6.78         Canterbury [federated.0npm3nk137dwgj1bs20161izsoga].[sum:2017:qk]                2017\n",
      "45      6.63108095427787                 6.63         Canterbury [federated.0npm3nk137dwgj1bs20161izsoga].[sum:2016:qk]                2016\n",
      "46      6.39462692788662                 6.39         Canterbury [federated.0npm3nk137dwgj1bs20161izsoga].[sum:2015:qk]                2015\n",
      "47      6.20957192232917                 6.21         Canterbury [federated.0npm3nk137dwgj1bs20161izsoga].[sum:2014:qk]                2014\n",
      "48      6.02449654187895                 6.02         Canterbury [federated.0npm3nk137dwgj1bs20161izsoga].[sum:2013:qk]                2013\n",
      "49      5.84570006247657                 5.85         Canterbury [federated.0npm3nk137dwgj1bs20161izsoga].[sum:2012:qk]                2012\n",
      "50      5.74692201582215                 5.75         Canterbury [federated.0npm3nk137dwgj1bs20161izsoga].[sum:2011:qk]                2011\n",
      "51      5.81607276507276                 5.82         Canterbury [federated.0npm3nk137dwgj1bs20161izsoga].[sum:2010:qk]                2010\n",
      "52      5.83453776524707                 5.83         Canterbury [federated.0npm3nk137dwgj1bs20161izsoga].[sum:2009:qk]                2009\n",
      "53      5.78755164661413                 5.79         Canterbury [federated.0npm3nk137dwgj1bs20161izsoga].[sum:2008:qk]                2008\n",
      "54      5.82188717848792                 5.82         Canterbury [federated.0npm3nk137dwgj1bs20161izsoga].[sum:2007:qk]                2007\n",
      "55      5.67580516716573                 5.68         Canterbury [federated.0npm3nk137dwgj1bs20161izsoga].[sum:2006:qk]                2006\n",
      "56      5.64859748225459                 5.65         Canterbury [federated.0npm3nk137dwgj1bs20161izsoga].[sum:2005:qk]                2005\n",
      "57      5.59197340491947                 5.59         Canterbury [federated.0npm3nk137dwgj1bs20161izsoga].[sum:2004:qk]                2004\n",
      "58      5.40112993653485                 5.40         Canterbury [federated.0npm3nk137dwgj1bs20161izsoga].[sum:2003:qk]                2003\n",
      "59      5.20868630151499                 5.21         Canterbury [federated.0npm3nk137dwgj1bs20161izsoga].[sum:2002:qk]                2002\n",
      "60      4.98640685336105                 4.99         Canterbury [federated.0npm3nk137dwgj1bs20161izsoga].[sum:2001:qk]                2001\n",
      "61      1.63978859430798                 1.64 Nelson/Marlborough [federated.0npm3nk137dwgj1bs20161izsoga].[sum:2020:qk]                2020\n",
      "62      1.66965396666249                 1.67 Nelson/Marlborough [federated.0npm3nk137dwgj1bs20161izsoga].[sum:2019:qk]                2019\n",
      "63      1.65654359273212                 1.66 Nelson/Marlborough [federated.0npm3nk137dwgj1bs20161izsoga].[sum:2018:qk]                2018\n",
      "64      1.60252089702204                 1.60 Nelson/Marlborough [federated.0npm3nk137dwgj1bs20161izsoga].[sum:2017:qk]                2017\n",
      "65       1.5234647899792                 1.52 Nelson/Marlborough [federated.0npm3nk137dwgj1bs20161izsoga].[sum:2016:qk]                2016\n",
      "66      1.43027157148812                 1.43 Nelson/Marlborough [federated.0npm3nk137dwgj1bs20161izsoga].[sum:2015:qk]                2015\n",
      "67      1.36720841034011                 1.37 Nelson/Marlborough [federated.0npm3nk137dwgj1bs20161izsoga].[sum:2014:qk]                2014\n",
      "68      1.33521287750129                 1.34 Nelson/Marlborough [federated.0npm3nk137dwgj1bs20161izsoga].[sum:2013:qk]                2013\n",
      "69      1.31808909159065                 1.32 Nelson/Marlborough [federated.0npm3nk137dwgj1bs20161izsoga].[sum:2012:qk]                2012\n",
      "70      1.32420791608252                 1.32 Nelson/Marlborough [federated.0npm3nk137dwgj1bs20161izsoga].[sum:2011:qk]                2011\n",
      "71      1.33723562023562                 1.34 Nelson/Marlborough [federated.0npm3nk137dwgj1bs20161izsoga].[sum:2010:qk]                2010\n",
      "72      1.34535217885938                 1.35 Nelson/Marlborough [federated.0npm3nk137dwgj1bs20161izsoga].[sum:2009:qk]                2009\n",
      "73      1.35517316006621                 1.36 Nelson/Marlborough [federated.0npm3nk137dwgj1bs20161izsoga].[sum:2008:qk]                2008\n",
      "74      1.37480709275136                 1.37 Nelson/Marlborough [federated.0npm3nk137dwgj1bs20161izsoga].[sum:2007:qk]                2007\n",
      "75      1.33495258482021                 1.33 Nelson/Marlborough [federated.0npm3nk137dwgj1bs20161izsoga].[sum:2006:qk]                2006\n",
      "76      1.33550557712759                 1.34 Nelson/Marlborough [federated.0npm3nk137dwgj1bs20161izsoga].[sum:2005:qk]                2005\n",
      "77       1.3236506430266                 1.32 Nelson/Marlborough [federated.0npm3nk137dwgj1bs20161izsoga].[sum:2004:qk]                2004\n",
      "78      1.27421023150646                 1.27 Nelson/Marlborough [federated.0npm3nk137dwgj1bs20161izsoga].[sum:2003:qk]                2003\n",
      "79      1.23811394215489                 1.24 Nelson/Marlborough [federated.0npm3nk137dwgj1bs20161izsoga].[sum:2002:qk]                2002\n",
      "80      1.19981975058798                 1.20 Nelson/Marlborough [federated.0npm3nk137dwgj1bs20161izsoga].[sum:2001:qk]                2001\n",
      "81      4.07742053890272                 4.08         Wellington [federated.0npm3nk137dwgj1bs20161izsoga].[sum:2020:qk]                2020\n",
      "82      4.16912395036972                 4.17         Wellington [federated.0npm3nk137dwgj1bs20161izsoga].[sum:2019:qk]                2019\n",
      "83      4.16490935958541                 4.16         Wellington [federated.0npm3nk137dwgj1bs20161izsoga].[sum:2018:qk]                2018\n",
      "84      4.05992004617654                 4.06         Wellington [federated.0npm3nk137dwgj1bs20161izsoga].[sum:2017:qk]                2017\n",
      "85      3.93294462886735                 3.93         Wellington [federated.0npm3nk137dwgj1bs20161izsoga].[sum:2016:qk]                2016\n",
      "86      3.79367757398916                 3.79         Wellington [federated.0npm3nk137dwgj1bs20161izsoga].[sum:2015:qk]                2015\n",
      "87      3.71571963132756                 3.72         Wellington [federated.0npm3nk137dwgj1bs20161izsoga].[sum:2014:qk]                2014\n",
      "88      3.66782576484777                 3.67         Wellington [federated.0npm3nk137dwgj1bs20161izsoga].[sum:2013:qk]                2013\n",
      "89      3.62649911283269                 3.63         Wellington [federated.0npm3nk137dwgj1bs20161izsoga].[sum:2012:qk]                2012\n",
      "90      3.64783694672542                 3.65         Wellington [federated.0npm3nk137dwgj1bs20161izsoga].[sum:2011:qk]                2011\n",
      "91      3.68892584892585                 3.69         Wellington [federated.0npm3nk137dwgj1bs20161izsoga].[sum:2010:qk]                2010\n",
      "92      3.67315229757135                 3.67         Wellington [federated.0npm3nk137dwgj1bs20161izsoga].[sum:2009:qk]                2009\n",
      "93       3.6655830224572                 3.67         Wellington [federated.0npm3nk137dwgj1bs20161izsoga].[sum:2008:qk]                2008\n",
      "94      3.72460492985191                 3.72         Wellington [federated.0npm3nk137dwgj1bs20161izsoga].[sum:2007:qk]                2007\n",
      "95      3.66384807839838                 3.66         Wellington [federated.0npm3nk137dwgj1bs20161izsoga].[sum:2006:qk]                2006\n",
      "96      3.67890208493063                 3.68         Wellington [federated.0npm3nk137dwgj1bs20161izsoga].[sum:2005:qk]                2005\n",
      "97      3.66156611312274                 3.66         Wellington [federated.0npm3nk137dwgj1bs20161izsoga].[sum:2004:qk]                2004\n",
      "98      3.56438541586372                 3.56         Wellington [federated.0npm3nk137dwgj1bs20161izsoga].[sum:2003:qk]                2003\n",
      "99      3.47312480135608                 3.47         Wellington [federated.0npm3nk137dwgj1bs20161izsoga].[sum:2002:qk]                2002\n",
      "100     3.38231088989772                 3.38         Wellington [federated.0npm3nk137dwgj1bs20161izsoga].[sum:2001:qk]                2001\n",
      "101     2.41157173466075                 2.41  Manawatu/Wanganui [federated.0npm3nk137dwgj1bs20161izsoga].[sum:2020:qk]                2020\n",
      "102     2.43733400175461                 2.44  Manawatu/Wanganui [federated.0npm3nk137dwgj1bs20161izsoga].[sum:2019:qk]                2019\n",
      "103     2.42719212437821                 2.43  Manawatu/Wanganui [federated.0npm3nk137dwgj1bs20161izsoga].[sum:2018:qk]                2018\n",
      "104     2.36720097483806                 2.37  Manawatu/Wanganui [federated.0npm3nk137dwgj1bs20161izsoga].[sum:2017:qk]                2017\n",
      "105     2.30424049484354                 2.30  Manawatu/Wanganui [federated.0npm3nk137dwgj1bs20161izsoga].[sum:2016:qk]                2016\n",
      "106     2.23411025427261                 2.23  Manawatu/Wanganui [federated.0npm3nk137dwgj1bs20161izsoga].[sum:2015:qk]                2015\n",
      "107     2.17911369800542                 2.18  Manawatu/Wanganui [federated.0npm3nk137dwgj1bs20161izsoga].[sum:2014:qk]                2014\n",
      "108     2.13413529744764                 2.13  Manawatu/Wanganui [federated.0npm3nk137dwgj1bs20161izsoga].[sum:2013:qk]                2013\n",
      "109     2.13099422716481                 2.13  Manawatu/Wanganui [federated.0npm3nk137dwgj1bs20161izsoga].[sum:2012:qk]                2012\n",
      "110     2.15020891748448                 2.15  Manawatu/Wanganui [federated.0npm3nk137dwgj1bs20161izsoga].[sum:2011:qk]                2011\n",
      "111     2.21235308385308                 2.21  Manawatu/Wanganui [federated.0npm3nk137dwgj1bs20161izsoga].[sum:2010:qk]                2010\n",
      "112     2.23456781421576                 2.23  Manawatu/Wanganui [federated.0npm3nk137dwgj1bs20161izsoga].[sum:2009:qk]                2009\n",
      "113     2.25127138868987                 2.25  Manawatu/Wanganui [federated.0npm3nk137dwgj1bs20161izsoga].[sum:2008:qk]                2008\n",
      "114     2.31272213561964                 2.31  Manawatu/Wanganui [federated.0npm3nk137dwgj1bs20161izsoga].[sum:2007:qk]                2007\n",
      "115     2.28677076888812                 2.29  Manawatu/Wanganui [federated.0npm3nk137dwgj1bs20161izsoga].[sum:2006:qk]                2006\n",
      "116     2.31434199787302                 2.31  Manawatu/Wanganui [federated.0npm3nk137dwgj1bs20161izsoga].[sum:2005:qk]                2005\n",
      "117      2.3198929953802                 2.32  Manawatu/Wanganui [federated.0npm3nk137dwgj1bs20161izsoga].[sum:2004:qk]                2004\n",
      "118     2.28817328297233                 2.29  Manawatu/Wanganui [federated.0npm3nk137dwgj1bs20161izsoga].[sum:2003:qk]                2003\n",
      "119     2.25703067062189                 2.26  Manawatu/Wanganui [federated.0npm3nk137dwgj1bs20161izsoga].[sum:2002:qk]                2002\n",
      "120     2.22151780342395                 2.22  Manawatu/Wanganui [federated.0npm3nk137dwgj1bs20161izsoga].[sum:2001:qk]                2001\n",
      "121     1.14965618439563                 1.15           Taranaki [federated.0npm3nk137dwgj1bs20161izsoga].[sum:2020:qk]                2020\n",
      "122     1.17056172452688                 1.17           Taranaki [federated.0npm3nk137dwgj1bs20161izsoga].[sum:2019:qk]                2019\n",
      "123     1.15948030053906                 1.16           Taranaki [federated.0npm3nk137dwgj1bs20161izsoga].[sum:2018:qk]                2018\n",
      "124     1.13950360219766                 1.14           Taranaki [federated.0npm3nk137dwgj1bs20161izsoga].[sum:2017:qk]                2017\n",
      "125     1.11754160580711                 1.12           Taranaki [federated.0npm3nk137dwgj1bs20161izsoga].[sum:2016:qk]                2016\n",
      "126      1.0914966652772                 1.09           Taranaki [federated.0npm3nk137dwgj1bs20161izsoga].[sum:2015:qk]                2015\n",
      "127     1.07552391810479                 1.08           Taranaki [federated.0npm3nk137dwgj1bs20161izsoga].[sum:2014:qk]                2014\n",
      "128     1.06456161854833                 1.06           Taranaki [federated.0npm3nk137dwgj1bs20161izsoga].[sum:2013:qk]                2013\n",
      "129     1.05647597151068                 1.06           Taranaki [federated.0npm3nk137dwgj1bs20161izsoga].[sum:2012:qk]                2012\n",
      "130     1.06157167534548                 1.06           Taranaki [federated.0npm3nk137dwgj1bs20161izsoga].[sum:2011:qk]                2011\n",
      "131      1.0886340956341                 1.09           Taranaki [federated.0npm3nk137dwgj1bs20161izsoga].[sum:2010:qk]                2010\n",
      "132     1.08971521491814                 1.09           Taranaki [federated.0npm3nk137dwgj1bs20161izsoga].[sum:2009:qk]                2009\n",
      "133     1.08955120191714                 1.09           Taranaki [federated.0npm3nk137dwgj1bs20161izsoga].[sum:2008:qk]                2008\n",
      "134     1.10425467653936                 1.10           Taranaki [federated.0npm3nk137dwgj1bs20161izsoga].[sum:2007:qk]                2007\n",
      "135     1.08521314558638                 1.09           Taranaki [federated.0npm3nk137dwgj1bs20161izsoga].[sum:2006:qk]                2006\n",
      "136     1.09605634011822                 1.10           Taranaki [federated.0npm3nk137dwgj1bs20161izsoga].[sum:2005:qk]                2005\n",
      "137     1.09836970907729                 1.10           Taranaki [federated.0npm3nk137dwgj1bs20161izsoga].[sum:2004:qk]                2004\n",
      "138     1.07802389578355                 1.08           Taranaki [federated.0npm3nk137dwgj1bs20161izsoga].[sum:2003:qk]                2003\n",
      "139     1.06095455027016                 1.06           Taranaki [federated.0npm3nk137dwgj1bs20161izsoga].[sum:2002:qk]                2002\n",
      "140     1.03670830826451                 1.04           Taranaki [federated.0npm3nk137dwgj1bs20161izsoga].[sum:2001:qk]                2001\n",
      "141     1.63377469970782                 1.63         Hawkes Bay [federated.0npm3nk137dwgj1bs20161izsoga].[sum:2020:qk]                2020\n",
      "142     1.65361887454568                 1.65         Hawkes Bay [federated.0npm3nk137dwgj1bs20161izsoga].[sum:2019:qk]                2019\n",
      "143     1.64151143671821                 1.64         Hawkes Bay [federated.0npm3nk137dwgj1bs20161izsoga].[sum:2018:qk]                2018\n",
      "144     1.59650768540094                 1.60         Hawkes Bay [federated.0npm3nk137dwgj1bs20161izsoga].[sum:2017:qk]                2017\n",
      "145     1.53749670251848                 1.54         Hawkes Bay [federated.0npm3nk137dwgj1bs20161izsoga].[sum:2016:qk]                2016\n",
      "146     1.47537473947478                 1.48         Hawkes Bay [federated.0npm3nk137dwgj1bs20161izsoga].[sum:2015:qk]                2015\n",
      "147     1.43637071262271                 1.44         Hawkes Bay [federated.0npm3nk137dwgj1bs20161izsoga].[sum:2014:qk]                2014\n",
      "148     1.42242272760836                 1.42         Hawkes Bay [federated.0npm3nk137dwgj1bs20161izsoga].[sum:2013:qk]                2013\n",
      "149     1.42032870173685                 1.42         Hawkes Bay [federated.0npm3nk137dwgj1bs20161izsoga].[sum:2012:qk]                2012\n",
      "150     1.43547746845584                 1.44         Hawkes Bay [federated.0npm3nk137dwgj1bs20161izsoga].[sum:2011:qk]                2011\n",
      "151     1.46755093555094                 1.47         Hawkes Bay [federated.0npm3nk137dwgj1bs20161izsoga].[sum:2010:qk]                2010\n",
      "152     1.47868439926794                 1.48         Hawkes Bay [federated.0npm3nk137dwgj1bs20161izsoga].[sum:2009:qk]                2009\n",
      "153     1.48648061862292                 1.49         Hawkes Bay [federated.0npm3nk137dwgj1bs20161izsoga].[sum:2008:qk]                2008\n",
      "154      1.5191017147311                 1.52         Hawkes Bay [federated.0npm3nk137dwgj1bs20161izsoga].[sum:2007:qk]                2007\n",
      "155     1.50646039248682                 1.51         Hawkes Bay [federated.0npm3nk137dwgj1bs20161izsoga].[sum:2006:qk]                2006\n",
      "156     1.50983263670764                 1.51         Hawkes Bay [federated.0npm3nk137dwgj1bs20161izsoga].[sum:2005:qk]                2005\n",
      "157     1.51188537894868                 1.51         Hawkes Bay [federated.0npm3nk137dwgj1bs20161izsoga].[sum:2004:qk]                2004\n",
      "158     1.48240797553894                 1.48         Hawkes Bay [federated.0npm3nk137dwgj1bs20161izsoga].[sum:2003:qk]                2003\n",
      "159     1.45530935480453                 1.46         Hawkes Bay [federated.0npm3nk137dwgj1bs20161izsoga].[sum:2002:qk]                2002\n",
      "160      1.4199701635399                 1.42         Hawkes Bay [federated.0npm3nk137dwgj1bs20161izsoga].[sum:2001:qk]                2001\n",
      "161    0.413956411643761                 0.41           Gisborne [federated.0npm3nk137dwgj1bs20161izsoga].[sum:2020:qk]                2020\n",
      "162    0.417914588294272                 0.42           Gisborne [federated.0npm3nk137dwgj1bs20161izsoga].[sum:2019:qk]                2019\n",
      "163    0.402861781172602                 0.40           Gisborne [federated.0npm3nk137dwgj1bs20161izsoga].[sum:2018:qk]                2018\n",
      "164    0.399878572802873                 0.40           Gisborne [federated.0npm3nk137dwgj1bs20161izsoga].[sum:2017:qk]                2017\n",
      "165    0.389886712698623                 0.39           Gisborne [federated.0npm3nk137dwgj1bs20161izsoga].[sum:2016:qk]                2016\n",
      "166    0.379868903709879                 0.38           Gisborne [federated.0npm3nk137dwgj1bs20161izsoga].[sum:2015:qk]                2015\n",
      "167    0.376884429829825                 0.38           Gisborne [federated.0npm3nk137dwgj1bs20161izsoga].[sum:2014:qk]                2014\n",
      "168    0.375904526323562                 0.38           Gisborne [federated.0npm3nk137dwgj1bs20161izsoga].[sum:2013:qk]                2013\n",
      "169    0.375880919655129                 0.38           Gisborne [federated.0npm3nk137dwgj1bs20161izsoga].[sum:2012:qk]                2012\n",
      "170     0.38693736230723                 0.39           Gisborne [federated.0npm3nk137dwgj1bs20161izsoga].[sum:2011:qk]                2011\n",
      "171    0.396960498960499                 0.40           Gisborne [federated.0npm3nk137dwgj1bs20161izsoga].[sum:2010:qk]                2010\n",
      "172    0.403004154919127                 0.40           Gisborne [federated.0npm3nk137dwgj1bs20161izsoga].[sum:2009:qk]                2009\n",
      "173    0.409959927860266                 0.41           Gisborne [federated.0npm3nk137dwgj1bs20161izsoga].[sum:2008:qk]                2008\n",
      "174    0.428875681995323                 0.43           Gisborne [federated.0npm3nk137dwgj1bs20161izsoga].[sum:2007:qk]                2007\n",
      "175    0.428268034348784                 0.43           Gisborne [federated.0npm3nk137dwgj1bs20161izsoga].[sum:2006:qk]                2006\n",
      "176    0.436819528602874                 0.44           Gisborne [federated.0npm3nk137dwgj1bs20161izsoga].[sum:2005:qk]                2005\n",
      "177    0.446556873517293                 0.45           Gisborne [federated.0npm3nk137dwgj1bs20161izsoga].[sum:2004:qk]                2004\n",
      "178    0.443421156761479                 0.44           Gisborne [federated.0npm3nk137dwgj1bs20161izsoga].[sum:2003:qk]                2003\n",
      "179    0.440396228414027                 0.44           Gisborne [federated.0npm3nk137dwgj1bs20161izsoga].[sum:2002:qk]                2002\n",
      "180    0.434296723732429                 0.43           Gisborne [federated.0npm3nk137dwgj1bs20161izsoga].[sum:2001:qk]                2001\n",
      "181     14.2990367276269                14.30           Auckland [federated.0npm3nk137dwgj1bs20161izsoga].[sum:2020:qk]                2020\n",
      "182     15.1832278481013                15.18           Auckland [federated.0npm3nk137dwgj1bs20161izsoga].[sum:2019:qk]                2019\n",
      "183     15.3889191832997                15.39           Auckland [federated.0npm3nk137dwgj1bs20161izsoga].[sum:2018:qk]                2018\n",
      "184      15.003965196571                15.00           Auckland [federated.0npm3nk137dwgj1bs20161izsoga].[sum:2017:qk]                2017\n",
      "185     14.3867194706325                14.39           Auckland [federated.0npm3nk137dwgj1bs20161izsoga].[sum:2016:qk]                2016\n",
      "186     13.6041177573989                13.60           Auckland [federated.0npm3nk137dwgj1bs20161izsoga].[sum:2015:qk]                2015\n",
      "187     12.9554022754002                12.96           Auckland [federated.0npm3nk137dwgj1bs20161izsoga].[sum:2014:qk]                2014\n",
      "188     12.5311532895223                12.53           Auckland [federated.0npm3nk137dwgj1bs20161izsoga].[sum:2013:qk]                2013\n",
      "189     12.2958166437586                12.30           Auckland [federated.0npm3nk137dwgj1bs20161izsoga].[sum:2012:qk]                2012\n",
      "190     12.1263763518926                12.13           Auckland [federated.0npm3nk137dwgj1bs20161izsoga].[sum:2011:qk]                2011\n",
      "191     12.1473922383922                12.15           Auckland [federated.0npm3nk137dwgj1bs20161izsoga].[sum:2010:qk]                2010\n",
      "192     12.0991471286541                12.10           Auckland [federated.0npm3nk137dwgj1bs20161izsoga].[sum:2009:qk]                2009\n",
      "193     12.0983284334313                12.10           Auckland [federated.0npm3nk137dwgj1bs20161izsoga].[sum:2008:qk]                2008\n",
      "194     12.2229569368667                12.22           Auckland [federated.0npm3nk137dwgj1bs20161izsoga].[sum:2007:qk]                2007\n",
      "195     12.0667276844267                12.07           Auckland [federated.0npm3nk137dwgj1bs20161izsoga].[sum:2006:qk]                2006\n",
      "196     11.9724618504687                11.97           Auckland [federated.0npm3nk137dwgj1bs20161izsoga].[sum:2005:qk]                2005\n",
      "197     11.7556597577725                11.76           Auckland [federated.0npm3nk137dwgj1bs20161izsoga].[sum:2004:qk]                2004\n",
      "198     11.3457760990776                11.35           Auckland [federated.0npm3nk137dwgj1bs20161izsoga].[sum:2003:qk]                2003\n",
      "199     10.8998066532472                10.90           Auckland [federated.0npm3nk137dwgj1bs20161izsoga].[sum:2002:qk]                2002\n",
      "200     10.4831623912925                10.48           Auckland [federated.0npm3nk137dwgj1bs20161izsoga].[sum:2001:qk]                2001\n",
      "201     1.76708269667785                 1.77          Northland [federated.0npm3nk137dwgj1bs20161izsoga].[sum:2020:qk]                2020\n",
      "202     1.80094128336884                 1.80          Northland [federated.0npm3nk137dwgj1bs20161izsoga].[sum:2019:qk]                2019\n",
      "203     1.81488230274523                 1.81          Northland [federated.0npm3nk137dwgj1bs20161izsoga].[sum:2018:qk]                2018\n",
      "204     1.76988862047587                 1.77          Northland [federated.0npm3nk137dwgj1bs20161izsoga].[sum:2017:qk]                2017\n",
      "205     1.72291840393042                 1.72          Northland [federated.0npm3nk137dwgj1bs20161izsoga].[sum:2016:qk]                2016\n",
      "206     1.66079887453105                 1.66          Northland [federated.0npm3nk137dwgj1bs20161izsoga].[sum:2015:qk]                2015\n",
      "207     1.62581527974462                 1.63          Northland [federated.0npm3nk137dwgj1bs20161izsoga].[sum:2014:qk]                2014\n",
      "208     1.61288102094563                 1.61          Northland [federated.0npm3nk137dwgj1bs20161izsoga].[sum:2013:qk]                2013\n",
      "209     1.61779147819568                 1.62          Northland [federated.0npm3nk137dwgj1bs20161izsoga].[sum:2012:qk]                2012\n",
      "210     1.65200200280393                 1.65          Northland [federated.0npm3nk137dwgj1bs20161izsoga].[sum:2011:qk]                2011\n",
      "211     1.70512577962578                 1.71          Northland [federated.0npm3nk137dwgj1bs20161izsoga].[sum:2010:qk]                2010\n",
      "212     1.74133884849384                 1.74          Northland [federated.0npm3nk137dwgj1bs20161izsoga].[sum:2009:qk]                2009\n",
      "213     1.77615890505719                 1.78          Northland [federated.0npm3nk137dwgj1bs20161izsoga].[sum:2008:qk]                2008\n",
      "214     1.83775233826968                 1.84          Northland [federated.0npm3nk137dwgj1bs20161izsoga].[sum:2007:qk]                2007\n",
      "215     1.84947600782004                 1.85          Northland [federated.0npm3nk137dwgj1bs20161izsoga].[sum:2006:qk]                2006\n",
      "216     1.88152998788119                 1.88          Northland [federated.0npm3nk137dwgj1bs20161izsoga].[sum:2005:qk]                2005\n",
      "217      1.8863523536022                 1.89          Northland [federated.0npm3nk137dwgj1bs20161izsoga].[sum:2004:qk]                2004\n",
      "218     1.85876543590534                 1.86          Northland [federated.0npm3nk137dwgj1bs20161izsoga].[sum:2003:qk]                2003\n",
      "219     1.82664344739909                 1.83          Northland [federated.0npm3nk137dwgj1bs20161izsoga].[sum:2002:qk]                2002\n",
      "220     1.81824227424383                 1.82          Northland [federated.0npm3nk137dwgj1bs20161izsoga].[sum:2001:qk]                2001\n"
     ]
    }
   ],
   "source": [
    "# scrape data from Misnitry of Transport - Vehicle kilometres travelled by region (billion km)\n",
    "# https://www.transport.govt.nz/statistics-and-insights/road-transport/sheet/vehicle-kms-travelled-vkt\n",
    "\n",
    "host_url <- \"https://public.tableau.com\"\n",
    "path <- \"/views/RoadTransport_0/RD086-Vehiclekilometrestravelledbyregionbillionkm?\"\n",
    "\n",
    "body <- read_html(modify_url(host_url, \n",
    "                             path = path, \n",
    "                             query = \":embed=yes&:showVizHome=no&:tabs=no&:toolbar=yes\"\n",
    "))\n",
    "\n",
    "data <- body %>% \n",
    "  html_nodes(\"textarea#tsConfigContainer\") %>% \n",
    "  html_text()\n",
    "json <- fromJSON(data)\n",
    "\n",
    "url <- modify_url(host_url, path = paste(json$vizql_root, \"/bootstrapSession/sessions/\", json$sessionid, sep =\"\"))\n",
    "\n",
    "resp <- POST(url, body = list(sheet_id = json$sheetId), encode = \"form\")\n",
    "data <- content(resp, \"text\")\n",
    "\n",
    "\n",
    "# The scraping code below credited for Doughey https://stackoverflow.com/questions/64256354/scraping-a-websites-tableau-dashboard-using-r\n",
    "\n",
    "extract <- str_match(data, \"\\\\d+;(\\\\{.*\\\\})\\\\d+;(\\\\{.*\\\\})\")\n",
    "data <- fromJSON(extract[1,3])\n",
    "worksheet = names(data$secondaryInfo$presModelMap$vizData$presModelHolder$genPresModelMapPresModel$presModelMap)\n",
    "columnsData <- data$secondaryInfo$presModelMap$vizData$presModelHolder$genPresModelMapPresModel$presModelMap[[worksheet]]$presModelHolder$genVizDataPresModel$paneColumnsData\n",
    "\n",
    "i <- 1\n",
    "result <- list();\n",
    "for(t in columnsData$vizDataColumns){\n",
    "  if (is.null(t[[\"fieldCaption\"]]) == FALSE) {\n",
    "    paneIndex <- t$paneIndices\n",
    "    columnIndex <- t$columnIndices\n",
    "    if (length(t$paneIndices) > 1){\n",
    "      paneIndex <- t$paneIndices[1]\n",
    "    }\n",
    "    if (length(t$columnIndices) > 1){\n",
    "      columnIndex <- t$columnIndices[1]\n",
    "    }\n",
    "    result[[i]] <- list(\n",
    "      fieldCaption = t[[\"fieldCaption\"]], \n",
    "      valueIndices = columnsData$paneColumnsList[[paneIndex + 1]]$vizPaneColumns[[columnIndex + 1]]$valueIndices,\n",
    "      aliasIndices = columnsData$paneColumnsList[[paneIndex + 1]]$vizPaneColumns[[columnIndex + 1]]$aliasIndices, \n",
    "      dataType = t[[\"dataType\"]],\n",
    "      stringsAsFactors = FALSE\n",
    "    )\n",
    "    i <- i + 1\n",
    "  }\n",
    "}\n",
    "dataFull = data$secondaryInfo$presModelMap$dataDictionary$presModelHolder$genDataDictionaryPresModel$dataSegments[[\"0\"]]$dataColumns\n",
    "\n",
    "cstring <- list();\n",
    "for(t in dataFull) {\n",
    "  if(t$dataType == \"cstring\"){\n",
    "    cstring <- t\n",
    "    break\n",
    "  }\n",
    "}\n",
    "data_index <- 1\n",
    "name_index <- 1\n",
    "frameData <-  list()\n",
    "frameNames <- c()\n",
    "for(t in dataFull) {\n",
    "  for(index in result) {\n",
    "    if (t$dataType == index[\"dataType\"]){\n",
    "      if (length(index$valueIndices) > 0) {\n",
    "        j <- 1\n",
    "        vector <- character(length(index$valueIndices))\n",
    "        for (it in index$valueIndices){\n",
    "          vector[j] <- t$dataValues[it+1]\n",
    "          j <- j + 1\n",
    "        }\n",
    "        frameData[[data_index]] <- vector\n",
    "        frameNames[[name_index]] <- paste(index$fieldCaption, \"value\", sep=\"-\")\n",
    "        data_index <- data_index + 1\n",
    "        name_index <- name_index + 1\n",
    "      }\n",
    "      if (length(index$aliasIndices) > 0) {\n",
    "        j <- 1\n",
    "        vector <- character(length(index$aliasIndices))\n",
    "        for (it in index$aliasIndices){\n",
    "          if (it >= 0){\n",
    "            vector[j] <- t$dataValues[it+1]\n",
    "          } else {\n",
    "            vector[j] <- cstring$dataValues[abs(it)]\n",
    "          }\n",
    "          j <- j + 1\n",
    "        }\n",
    "        frameData[[data_index]] <- vector\n",
    "        frameNames[[name_index]] <- paste(index$fieldCaption, \"alias\", sep=\"-\")\n",
    "        data_index <- data_index + 1\n",
    "        name_index <- name_index + 1\n",
    "      }\n",
    "    }\n",
    "  }\n",
    "}\n",
    "\n",
    "df <- NULL\n",
    "lengthList <- c()\n",
    "for(i in 1:length(frameNames)){\n",
    "  lengthList[i] <- length(frameData[[i]])\n",
    "}\n",
    "max <- max(lengthList)\n",
    "for(i in 1:length(frameNames)){\n",
    "  if (length(frameData[[i]]) < max){\n",
    "    len <- length(frameData[[i]])\n",
    "    frameData[[i]][(len+1):max]<-\"\"\n",
    "  }\n",
    "  df[frameNames[[i]]] <- frameData[i]\n",
    "}\n",
    "options(width = 1200)\n",
    "df <- as.data.frame(df, stringsAsFactors = FALSE)\n",
    "print(df)"
   ]
  },
  {
   "cell_type": "code",
   "execution_count": 27,
   "metadata": {
    "vscode": {
     "languageId": "r"
    }
   },
   "outputs": [],
   "source": [
    "# wrangling the VKT dataframe\n",
    "\n",
    "VKTdf = subset(df,select = -c(Measure.Values.alias,Measure.Names.value))\n",
    "colnames(VKTdf) = c(\"VKT\",\"region\",\"year\")\n",
    "VKTdf$VKT = as.numeric(VKTdf$VKT)\n",
    "VKTdf$year = as.numeric(VKTdf$year)\n",
    "VKTdf = VKTdf[,c(2,3,1)]"
   ]
  },
  {
   "cell_type": "code",
   "execution_count": 28,
   "metadata": {
    "vscode": {
     "languageId": "r"
    }
   },
   "outputs": [],
   "source": [
    "# download Population estimated file from Environment Canterbury Regional Council\n",
    "popu_url = \"https://www.ecan.govt.nz/document/download/?uri=4571117\"\n",
    "download.file(popu_url,\"population.xlsx\")\n",
    "\n",
    "# load xlsx file to dataframe\n",
    "population_df = readWorksheetFromFile(\"population.xlsx\", \n",
    "                                    sheet=2, \n",
    "                                    startRow = 3, endRow = 22,\n",
    "                                    startCol =1, endCol = 22)\n",
    "\n",
    "\n",
    "#wrangling the data frame\n",
    "\n",
    "# change column names\n",
    "colnames(population_df) = c('region','2001','2002','2003','2004','2005','2006','2007','2008',\n",
    "'2009','2010','2011','2012','2013','2014','2015','2016','2017','2018','2019','2020','2021')\n",
    "\n",
    "# convert dataframe to long format\n",
    "population_df = population_df %>%\n",
    "                pivot_longer(cols =c('2001','2002','2003','2004','2005','2006','2007','2008',\n",
    "                                    '2009','2010','2011','2012','2013','2014','2015','2016',\n",
    "                                    '2017','2018','2019','2020','2021'),\n",
    "                            names_to = 'year',\n",
    "                            values_to ='population'\n",
    "                            )\n",
    "# change year datatype from character to Date\n",
    "population_df$year = year(as.Date(population_df$year, format = \"%Y\"))\n",
    "\n",
    "# remove the word Region from the region name\n",
    "population_df$region<-gsub(\"Region\",\"\",as.character(population_df$region))"
   ]
  },
  {
   "cell_type": "code",
   "execution_count": 29,
   "metadata": {
    "vscode": {
     "languageId": "r"
    }
   },
   "outputs": [],
   "source": [
    "# Load the Crashes Analysis System data to dataframe\n",
    "CAS <- read.csv(\"CAS.csv\")\n",
    "\n",
    "#splited to relational data frame\n",
    "locationCols <- c(\"OBJECTID\", \"X\", \"Y\", \"areaUnitID\", \"crashDirectionDescription\", \"crashLocation1\", \"crashLocation2\", \"crashSHDescription\", \"meshblockId\", \"region\", \"tlaId\", \"tlaName\", \"urban\")\n",
    "detailCols <- c(\"OBJECTID\", \"crashFinancialYear\", \"crashSeverity\", \"crashYear\", \"directionRoleDescription\", \"fatalCount\", \"holiday\", \"minorInjuryCount\", \"region\",\"seriousInjuryCount\")\n",
    "weatherCols <- c(\"OBJECTID\", \"light\", \"weatherA\", \"weatherB\")\n",
    "vehicleCols <- c(\"OBJECTID\", \"bicycle\", \"bus\", \"carStationWagon\", \"moped\", \"motorcycle\", \"otherVehicleType\", \"pedestrian\", \"schoolBus\", \"suv\", \"taxi\", \"truck\", \"unknownVehicleType\", \"vanOrUtility\", \"vehicle\")\n",
    "environmentCols <- c(\"OBJECTID\", \"advisorySpeed\", \"bridge\", \"cliffBank\", \"debris\", \"ditch\", \"fence\", \"flatHill\", \"guardRail\", \"houseOrBuilding\", \"kerb\", \"NumberOfLanes\", \"objectThrownOrDropped\", \"otherObject\", \"overBank\", \"parkedVehicle\", \"phoneBoxEtc\", \"postOrPole\", \"roadCharacter\", \"roadLane\", \"roadSurface\", \"roadworks\", \"slipOrFlood\", \"speedLimit\", \"strayAnimal\", \"streetLight\", \"temporarySpeedLimit\", \"trafficControl\", \"trafficIsland\", \"trafficSign\", \"train\", \"tree\", \"waterRiver\")\n",
    "\n",
    "#create dataframes\n",
    "location <- CAS[locationCols]\n",
    "crashesDetail <- CAS[detailCols]\n",
    "environmentalCon <- CAS[weatherCols]\n",
    "vehicleInvolved <- CAS[vehicleCols]\n",
    "surroundingCon <- CAS[environmentCols]"
   ]
  },
  {
   "cell_type": "code",
   "execution_count": 30,
   "metadata": {
    "vscode": {
     "languageId": "r"
    }
   },
   "outputs": [],
   "source": [
    "# create an SQLite database \n",
    "db = dbConnect(RSQLite::SQLite(), \"CAS.db\")"
   ]
  },
  {
   "cell_type": "code",
   "execution_count": 31,
   "metadata": {
    "vscode": {
     "languageId": "r"
    }
   },
   "outputs": [
    {
     "data": {
      "text/html": [
       "0"
      ],
      "text/latex": [
       "0"
      ],
      "text/markdown": [
       "0"
      ],
      "text/plain": [
       "[1] 0"
      ]
     },
     "metadata": {},
     "output_type": "display_data"
    }
   ],
   "source": [
    "# create VKT table frame\n",
    "dbExecute(db, \n",
    "            \"CREATE TABLE VKT (\n",
    "            region varchar(20) NOT NULL,\n",
    "            year INTEGER NOT NULL,\n",
    "            VKT float,\n",
    "            PRIMARY KEY (region, year)\n",
    "            );\"\n",
    "        )\n",
    "# write dataframe to db VKT table        \n",
    "dbWriteTable(db, \"VKT\", VKTdf, append = T)"
   ]
  },
  {
   "cell_type": "code",
   "execution_count": 32,
   "metadata": {
    "vscode": {
     "languageId": "r"
    }
   },
   "outputs": [
    {
     "data": {
      "text/html": [
       "0"
      ],
      "text/latex": [
       "0"
      ],
      "text/markdown": [
       "0"
      ],
      "text/plain": [
       "[1] 0"
      ]
     },
     "metadata": {},
     "output_type": "display_data"
    }
   ],
   "source": [
    "# create Population table frame\n",
    "dbExecute(db, \n",
    "            \"CREATE TABLE population (\n",
    "            region varchar(20) NOT NULL,\n",
    "            year INTEGER NOT NULL,\n",
    "            population INTEGER NOT NULL,\n",
    "            PRIMARY KEY (region, year)\n",
    "            );\"\n",
    "        )\n",
    "# write dataframe to db VKT table        \n",
    "dbWriteTable(db, \"population\", population_df, append = T)"
   ]
  },
  {
   "cell_type": "code",
   "execution_count": 33,
   "metadata": {
    "vscode": {
     "languageId": "r"
    }
   },
   "outputs": [
    {
     "data": {
      "text/html": [
       "0"
      ],
      "text/latex": [
       "0"
      ],
      "text/markdown": [
       "0"
      ],
      "text/plain": [
       "[1] 0"
      ]
     },
     "metadata": {},
     "output_type": "display_data"
    }
   ],
   "source": [
    "# create crashesDetail table frame\n",
    "dbExecute(db, \n",
    "            \"CREATE TABLE crashesDetail (\n",
    "            OBJECTID INTERGER NOT NULL,\n",
    "            crashFinancialYear varchar(10), \n",
    "            crashSeverity varchar(20), \n",
    "            crashYear INTERGER NOT NULL, \n",
    "            directionRoleDescription varchar(10), \n",
    "            fatalCount INTERGER, \n",
    "            holiday varchar(30), \n",
    "            minorInjuryCount INTERGER, \n",
    "            region varchar(20),\n",
    "            seriousInjuryCount INTERGER,\n",
    "            PRIMARY KEY (OBJECTID)\n",
    "            );\"\n",
    "        )\n",
    "# write dataframe to db VKT table        \n",
    "dbWriteTable(db, \"crashesDetail\", crashesDetail, append = T)"
   ]
  },
  {
   "cell_type": "code",
   "execution_count": 34,
   "metadata": {
    "vscode": {
     "languageId": "r"
    }
   },
   "outputs": [
    {
     "data": {
      "text/html": [
       "0"
      ],
      "text/latex": [
       "0"
      ],
      "text/markdown": [
       "0"
      ],
      "text/plain": [
       "[1] 0"
      ]
     },
     "metadata": {},
     "output_type": "display_data"
    }
   ],
   "source": [
    "# create environmentalCon table frame\n",
    "dbExecute(db, \n",
    "            \"CREATE TABLE environmentalCon (\n",
    "            OBJECTID INTERGER NOT NULL,\n",
    "            light varchar(20), \n",
    "            weatherA varchar(20),\n",
    "            weatherB varchar(20),\n",
    "            PRIMARY KEY (OBJECTID)\n",
    "            );\"\n",
    "        )\n",
    "# write dataframe to db environmentalCon table\n",
    "dbWriteTable(db, \"environmentalCon\", environmentalCon, append = T)"
   ]
  },
  {
   "cell_type": "code",
   "execution_count": 35,
   "metadata": {
    "vscode": {
     "languageId": "r"
    }
   },
   "outputs": [
    {
     "data": {
      "text/html": [
       "0"
      ],
      "text/latex": [
       "0"
      ],
      "text/markdown": [
       "0"
      ],
      "text/plain": [
       "[1] 0"
      ]
     },
     "metadata": {},
     "output_type": "display_data"
    }
   ],
   "source": [
    "# create vehicleInvolved table frame\n",
    "dbExecute(db, \n",
    "            \"CREATE TABLE vehicleInvolved (\n",
    "            OBJECTID INTERGER NOT NULL,\n",
    "            bicycle INTERGER,\n",
    "            bus INTERGER,\n",
    "            carStationWagon INTERGER,\n",
    "            moped INTERGER,\n",
    "            motorcycle INTERGER,\n",
    "            otherVehicleType INTERGER,\n",
    "            pedestrian INTERGER,\n",
    "            schoolBus INTERGER,\n",
    "            suv INTERGER,\n",
    "            taxi INTERGER,\n",
    "            truck INTERGER,\n",
    "            unknownVehicleType INTERGER,\n",
    "            vanOrUtility INTERGER,\n",
    "            vehicle INTERGER,\n",
    "            PRIMARY KEY (OBJECTID)\n",
    "            );\"\n",
    "        )\n",
    "# write dataframe to db vehicleInvolved table\n",
    "dbWriteTable(db, \"vehicleInvolved\", vehicleInvolved, append = T)"
   ]
  },
  {
   "cell_type": "code",
   "execution_count": 36,
   "metadata": {
    "vscode": {
     "languageId": "r"
    }
   },
   "outputs": [
    {
     "data": {
      "text/html": [
       "0"
      ],
      "text/latex": [
       "0"
      ],
      "text/markdown": [
       "0"
      ],
      "text/plain": [
       "[1] 0"
      ]
     },
     "metadata": {},
     "output_type": "display_data"
    }
   ],
   "source": [
    "# create surroundingCon table frame\n",
    "dbExecute(db, \n",
    "            \"CREATE TABLE surroundingCon (\n",
    "            OBJECTID INTERGER NOT NULL,\n",
    "            advisorySpeed INTERGER, \n",
    "            bridge INTERGER,\n",
    "            cliffBank INTERGER,\n",
    "            debris INTERGER,\n",
    "            ditch INTERGER,\n",
    "            fence INTERGER,\n",
    "            flatHill varchar(20),\n",
    "            guardRail INTERGER,\n",
    "            houseOrBuilding INTERGER,\n",
    "            kerb INTERGER,\n",
    "            NumberOfLanes INTERGER,\n",
    "            objectThrownOrDropped INTERGER,\n",
    "            otherObject INTERGER,\n",
    "            overBank INTERGER,\n",
    "            parkedVehicle INTERGER,\n",
    "            phoneBoxEtc INTERGER,\n",
    "            postOrPole INTERGER,\n",
    "            roadCharacter varchar(20),\n",
    "            roadLane varchar(20), \n",
    "            roadSurface varchar(20),\n",
    "            roadworks INTERGER,\n",
    "            slipOrFlood INTERGER,\n",
    "            speedLimit INTERGER,\n",
    "            strayAnimal INTERGER,\n",
    "            streetLight varchar(10), \n",
    "            temporarySpeedLimit INTERGER,\n",
    "            trafficControl varchar(30),\n",
    "            trafficIsland INTERGER,\n",
    "            trafficSign INTERGER,\n",
    "            train INTERGER,\n",
    "            tree INTERGER,\n",
    "            waterRiver INTERGER,\n",
    "            PRIMARY KEY (OBJECTID)\n",
    "            );\"\n",
    "        )\n",
    "# write dataframe to db surroundingCon table\n",
    "dbWriteTable(db, \"surroundingCon\", surroundingCon, append = T)"
   ]
  },
  {
   "cell_type": "code",
   "execution_count": 37,
   "metadata": {
    "vscode": {
     "languageId": "r"
    }
   },
   "outputs": [],
   "source": [
    "# remove temp files\n",
    "unlink(\"CAS.csv\")\n",
    "unlink(\"population.xlsx\")"
   ]
  },
  {
   "cell_type": "code",
   "execution_count": 38,
   "metadata": {
    "vscode": {
     "languageId": "r"
    }
   },
   "outputs": [],
   "source": [
    "# disconnect from database\n",
    " dbDisconnect(db)"
   ]
  }
 ],
 "metadata": {
  "kernelspec": {
   "display_name": "R",
   "language": "R",
   "name": "ir"
  },
  "language_info": {
   "codemirror_mode": "r",
   "file_extension": ".r",
   "mimetype": "text/x-r-source",
   "name": "R",
   "pygments_lexer": "r",
   "version": "4.2.1"
  },
  "orig_nbformat": 4
 },
 "nbformat": 4,
 "nbformat_minor": 2
}
