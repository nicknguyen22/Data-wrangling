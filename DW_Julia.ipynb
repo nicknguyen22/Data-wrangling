{
 "cells": [
  {
   "cell_type": "code",
   "execution_count": 8,
   "metadata": {},
   "outputs": [],
   "source": [
    "# install needed package\n",
    "\n",
    "# using Pkg\n",
    "# Pkg.add(\"JSON3\")\n",
    "# Pkg.add(\"JSON\")\n",
    "# Pkg.add(\"Chain\")\n",
    "# Pkg.add(\"CSV\")\n",
    "# Pkg.add(\"JSONTables\")"
   ]
  },
  {
   "cell_type": "code",
   "execution_count": 9,
   "metadata": {},
   "outputs": [],
   "source": [
    "#Loading package\n",
    "using HTTP\n",
    "using JSON3\n",
    "using Chain\n",
    "using DataFrames\n",
    "using JSONTables\n",
    "using CSV\n"
   ]
  },
  {
   "cell_type": "code",
   "execution_count": 10,
   "metadata": {},
   "outputs": [
    {
     "data": {
      "text/plain": [
       "3-element Vector{String}:\n",
       " \"https://services.arcgis.com/CXB\" ⋯ 205 bytes ⋯ \"&outFields=*&outSR=4326&f=json\"\n",
       " \"https://services.arcgis.com/CXB\" ⋯ 205 bytes ⋯ \"&outFields=*&outSR=4326&f=json\"\n",
       " \"https://services.arcgis.com/CXB\" ⋯ 200 bytes ⋯ \"&outFields=*&outSR=4326&f=json\""
      ]
     },
     "metadata": {},
     "output_type": "display_data"
    }
   ],
   "source": [
    "# We want to get the data for Canterbury Region and Otago Region, from year 2010 to 2020.\n",
    "# ArcGIS services limit number of record to 32000, so we have to split into 3 REST API calls, one for records from 2010 to 2018, and another for records from 2019 to 2020 for Canterbury\n",
    "# Otago data can be accquired in 1 call\n",
    "# The URLs are collected from Crash Analysis System Data API website https://opendata-nzta.opendata.arcgis.com/datasets/NZTA::crash-analysis-system-cas-data-1/api\n",
    "\n",
    "patch1_url = \"https://services.arcgis.com/CXBb7LAjgIIdcsPt/arcgis/rest/services/CAS_Data_Public/FeatureServer/0/query?where=region%20=%20'CANTERBURY%20REGION'%20AND%20%20(crashYear%20%3E=%202010%20AND%20crashYear%20%3C=%202018)%20&resultType=standard&outFields=*&outSR=4326&f=json\"\n",
    "patch2_url = \"https://services.arcgis.com/CXBb7LAjgIIdcsPt/arcgis/rest/services/CAS_Data_Public/FeatureServer/0/query?where=region%20=%20'CANTERBURY%20REGION'%20AND%20%20(crashYear%20%3E=%202019%20AND%20crashYear%20%3C=%202020)%20&resultType=standard&outFields=*&outSR=4326&f=json\"\n",
    "patch3_url = \"https://services.arcgis.com/CXBb7LAjgIIdcsPt/arcgis/rest/services/CAS_Data_Public/FeatureServer/0/query?where=region%20=%20'OTAGO%20REGION'%20AND%20%20(crashYear%20%3E=%202010%20AND%20crashYear%20%3C=%202020)%20&resultType=standard&outFields=*&outSR=4326&f=json\"\n",
    "urls = [patch1_url, patch2_url, patch3_url]"
   ]
  },
  {
   "cell_type": "code",
   "execution_count": 11,
   "metadata": {},
   "outputs": [
    {
     "data": {
      "text/html": [
       "<div class=\"data-frame\"><p>0 rows × 72 columns (omitted printing of 63 columns)</p><table class=\"data-frame\"><thead><tr><th></th><th>X</th><th>Y</th><th>OBJECTID</th><th>advisorySpeed</th><th>areaUnitID</th><th>bicycle</th><th>bridge</th><th>bus</th><th>carStationWagon</th></tr><tr><th></th><th title=\"Any\">Any</th><th title=\"Any\">Any</th><th title=\"Any\">Any</th><th title=\"Any\">Any</th><th title=\"Any\">Any</th><th title=\"Any\">Any</th><th title=\"Any\">Any</th><th title=\"Any\">Any</th><th title=\"Any\">Any</th></tr></thead><tbody></tbody></table></div>"
      ],
      "text/latex": [
       "\\begin{tabular}{r|cccccccccc}\n",
       "\t& X & Y & OBJECTID & advisorySpeed & areaUnitID & bicycle & bridge & bus & carStationWagon & \\\\\n",
       "\t\\hline\n",
       "\t& Any & Any & Any & Any & Any & Any & Any & Any & Any & \\\\\n",
       "\t\\hline\n",
       "\\end{tabular}\n"
      ],
      "text/plain": [
       "\u001b[1m0×72 DataFrame\u001b[0m"
      ]
     },
     "metadata": {},
     "output_type": "display_data"
    }
   ],
   "source": [
    "# Create empty dataframe to hold GeoJson data from ArcGIS\n",
    "colnames = [\"X\", \"Y\", \"OBJECTID\", \"advisorySpeed\", \"areaUnitID\", \"bicycle\", \"bridge\", \"bus\", \"carStationWagon\",\t\"cliffBank\", \"crashDirectionDescription\", \"crashFinancialYear\",\t\n",
    "            \"crashLocation1\", \"crashLocation2\", \"crashRoadSideRoad\", \"crashSeverity\", \"crashSHDescription\", \"crashYear\", \"debris\", \"directionRoleDescription\", \"ditch\", \"fatalCount\",\n",
    "            \"fence\", \"flatHill\", \"guardRail\", \"holiday\", \"houseOrBuilding\", \"intersection\", \"kerb\", \"light\", \"meshblockId\", \"minorInjuryCount\", \"moped\", \"motorcycle\",\"NumberOfLanes\",\n",
    "            \"objectThrownOrDropped\", \"otherObject\", \"otherVehicleType\", \"overBank\", \"parkedVehicle\", \"pedestrian\", \"phoneBoxEtc\", \"postOrPole\", \"region\", \"roadCharacter\", \"roadLane\",\n",
    "            \"roadSurface\", \"roadworks\", \"schoolBus\", \"seriousInjuryCount\", \"slipOrFlood\", \"speedLimit\", \"strayAnimal\", \"streetLight\", \"suv\", \"taxi\", \"temporarySpeedLimit\",\t\"tlaId\", \n",
    "            \"tlaName\", \"trafficControl\", \"trafficIsland\", \"trafficSign\", \"train\", \"tree\", \"truck\", \"unknownVehicleType\", \"urban\", \"vanOrUtility\", \"vehicle\", \"waterRiver\", \"weatherA\",\"weatherB\"]\n",
    "\n",
    "CASdf = DataFrame([[] for _ = colnames], colnames)"
   ]
  },
  {
   "cell_type": "code",
   "execution_count": 12,
   "metadata": {},
   "outputs": [],
   "source": [
    "# API Calls and push data to dataframe\n",
    "for url in urls\n",
    "    data = JSON3.read((HTTP.get(url)).body)\n",
    "    for id in 1:length(data[\"features\"])\n",
    "        atr = data[\"features\"][id][\"attributes\"]\n",
    "        geo = data[\"features\"][id][\"geometry\"]\n",
    "        push!(CASdf,[geo[\"x\"] geo[\"y\"] atr[\"OBJECTID\"] atr[\"advisorySpeed\"] atr[\"areaUnitID\"] atr[\"bicycle\"] atr[\"bridge\"] atr[\"bus\"] atr[\"carStationWagon\"] atr[\"cliffBank\"] atr[\"crashDirectionDescription\"] atr[\"crashFinancialYear\"] atr[\"crashLocation1\"] atr[\"crashLocation2\"] atr[\"crashRoadSideRoad\"] atr[\"crashSeverity\"] atr[\"crashSHDescription\"] atr[\"crashYear\"] atr[\"debris\"] atr[\"directionRoleDescription\"] atr[\"ditch\"] atr[\"fatalCount\"] atr[\"fence\"] atr[\"flatHill\"] atr[\"guardRail\"] atr[\"holiday\"] atr[\"houseOrBuilding\"] atr[\"intersection\"] atr[\"kerb\"] atr[\"light\"] atr[\"meshblockId\"] atr[\"minorInjuryCount\"] atr[\"moped\"] atr[\"motorcycle\"] atr[\"NumberOfLanes\"] atr[\"objectThrownOrDropped\"] atr[\"otherObject\"] atr[\"otherVehicleType\"] atr[\"overBank\"] atr[\"parkedVehicle\"] atr[\"pedestrian\"] atr[\"phoneBoxEtc\"] atr[\"postOrPole\"] atr[\"region\"] atr[\"roadCharacter\"] atr[\"roadLane\"] atr[\"roadSurface\"] atr[\"roadworks\"] atr[\"schoolBus\"] atr[\"seriousInjuryCount\"] atr[\"slipOrFlood\"] atr[\"speedLimit\"] atr[\"strayAnimal\"] atr[\"streetLight\"] atr[\"suv\"] atr[\"taxi\"] atr[\"temporarySpeedLimit\"] atr[\"tlaId\"] atr[\"tlaName\"] atr[\"trafficControl\"] atr[\"trafficIsland\"] atr[\"trafficSign\"] atr[\"train\"] atr[\"tree\"] atr[\"truck\"] atr[\"unknownVehicleType\"] atr[\"urban\"] atr[\"vanOrUtility\"] atr[\"vehicle\"] atr[\"waterRiver\"] atr[\"weatherA\"] atr[\"weatherB\"]]) \n",
    "    end\n",
    "end"
   ]
  },
  {
   "cell_type": "code",
   "execution_count": 13,
   "metadata": {},
   "outputs": [
    {
     "data": {
      "text/plain": [
       "57459-element Vector{Any}:\n",
       " \"Canterbury\"\n",
       " \"Canterbury\"\n",
       " \"Canterbury\"\n",
       " \"Canterbury\"\n",
       " \"Canterbury\"\n",
       " \"Canterbury\"\n",
       " \"Canterbury\"\n",
       " \"Canterbury\"\n",
       " \"Canterbury\"\n",
       " \"Canterbury\"\n",
       " ⋮\n",
       " \"Otago\"\n",
       " \"Otago\"\n",
       " \"Otago\"\n",
       " \"Otago\"\n",
       " \"Otago\"\n",
       " \"Otago\"\n",
       " \"Otago\"\n",
       " \"Otago\"\n",
       " \"Otago\""
      ]
     },
     "metadata": {},
     "output_type": "display_data"
    }
   ],
   "source": [
    "# wrangling the dataframe\n",
    "\n",
    "# convert missing value, null, Null and Nil to NA\n",
    "for col in names(CASdf)\n",
    "    CASdf[!,col] = replace(CASdf[!,col], nothing => \"NA\")\n",
    "    CASdf[!,col] = replace(CASdf[!,col], \"null\" => \"NA\")\n",
    "    CASdf[!,col] = replace(CASdf[!,col], \"Null\" => \"NA\")\n",
    "    CASdf[!,col] = replace(CASdf[!,col], \"Nil\" => \"NA\")\n",
    "end\n",
    "\n",
    "# remove the word \"Region\" from the region variable value\n",
    "CASdf.region = replace(CASdf.region, \"Canterbury Region\" => \"Canterbury\")\n",
    "CASdf.region = replace(CASdf.region, \"Otago Region\" => \"Otago\")\n"
   ]
  },
  {
   "cell_type": "code",
   "execution_count": 14,
   "metadata": {},
   "outputs": [
    {
     "data": {
      "text/plain": [
       "\"CAS.csv\""
      ]
     },
     "metadata": {},
     "output_type": "display_data"
    }
   ],
   "source": [
    "# save to csv\n",
    "something.(CASdf, missing) |> \n",
    "  CSV.write(\"CAS.csv\")"
   ]
  }
 ],
 "metadata": {
  "kernelspec": {
   "display_name": "Julia 1.7.3",
   "language": "julia",
   "name": "julia-1.7"
  },
  "language_info": {
   "file_extension": ".jl",
   "mimetype": "application/julia",
   "name": "julia",
   "version": "1.7.3"
  },
  "orig_nbformat": 4
 },
 "nbformat": 4,
 "nbformat_minor": 2
}
